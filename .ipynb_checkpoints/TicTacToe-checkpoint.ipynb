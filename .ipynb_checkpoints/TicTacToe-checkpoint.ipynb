{
 "cells": [
  {
   "cell_type": "markdown",
   "id": "74900b0d-86f4-4e61-a66d-c8adbb6256c9",
   "metadata": {},
   "source": [
    "# Game: Tic Tac Toe\n",
    "\n",
    "This simple rendition of the game is written for two human players: [X, O], where user input is determined for each particular index.\n",
    "\n",
    "For reference, mapping of indexes for each player's move is as below:\n",
    "\n",
    "## Grid:\n",
    "             X | O | X\n",
    "            \n",
    "             O | X | O\n",
    "            \n",
    "             X | O | X\n",
    "\n",
    "\n",
    "## Index Reference:\n",
    "             1 | 2 | 3\n",
    "            \n",
    "             4 | 5 | 6\n",
    "            \n",
    "             7 | 8 | 9\n",
    "\n",
    "\n",
    "\n",
    "```\n",
    "Have Fun!\n",
    "```\n"
   ]
  },
  {
   "cell_type": "code",
   "execution_count": 2,
   "id": "2d5bfa09-be73-497c-b75f-c7b287cda848",
   "metadata": {},
   "outputs": [],
   "source": [
    "from IPython.display import clear_output\n",
    "import copy"
   ]
  },
  {
   "cell_type": "code",
   "execution_count": 3,
   "id": "9154178c-6810-4b6d-a318-64a4c6b7768a",
   "metadata": {},
   "outputs": [],
   "source": [
    "X = 'X'\n",
    "O = 'O'\n",
    "EMPTY = ' '"
   ]
  },
  {
   "cell_type": "code",
   "execution_count": 4,
   "id": "02302a90-40a7-4d78-9394-676f5a8fa588",
   "metadata": {},
   "outputs": [],
   "source": [
    "def initialise_board():\n",
    "\n",
    "    return [[EMPTY, EMPTY, EMPTY],\n",
    "            [EMPTY, EMPTY, EMPTY],\n",
    "            [EMPTY, EMPTY, EMPTY]]"
   ]
  },
  {
   "cell_type": "code",
   "execution_count": 5,
   "id": "88f52e78-431b-4212-bbfa-66aa62fc88db",
   "metadata": {},
   "outputs": [],
   "source": [
    "def print_board(board):\n",
    "    clear_output()\n",
    "    print(\"Current Board: \")\n",
    "    space = 0\n",
    "    col = 0\n",
    "    for row in board:\n",
    "        for index in row:\n",
    "            print(index, end=' ')\n",
    "            space += 1\n",
    "            if space < 3:\n",
    "                print(' | ', end= ' ')\n",
    "        if col < 2:\n",
    "            print(f\"\\n{'___  ' * 3} \")\n",
    "            col += 1\n",
    "        space = 0\n",
    "    "
   ]
  },
  {
   "cell_type": "code",
   "execution_count": 6,
   "id": "b4e4f863-7dae-4d03-9ab5-d617039fecb8",
   "metadata": {},
   "outputs": [],
   "source": [
    "def player(board):\n",
    "    moves_played = 0\n",
    "    for row in board:\n",
    "        for index in row:\n",
    "            if index != EMPTY:\n",
    "                moves_played += 1\n",
    "    if moves_played % 2 == 0:\n",
    "        return X\n",
    "    return O\n"
   ]
  },
  {
   "cell_type": "code",
   "execution_count": 7,
   "id": "9282e55f-f862-4471-a714-a526e9dae3c1",
   "metadata": {},
   "outputs": [],
   "source": [
    "def determine_index(index):\n",
    "\n",
    "    if index in range (1, 4):\n",
    "        return (0, index - 1)\n",
    "    elif (index in range (4, 7)):\n",
    "        return (1, index - 4) \n",
    "    elif (index in range (7, 10)):\n",
    "        return (2, index - 7)"
   ]
  },
  {
   "cell_type": "code",
   "execution_count": 8,
   "id": "17c00d39-25f4-42ce-b391-0dee29ffe8cd",
   "metadata": {},
   "outputs": [],
   "source": [
    "def board_input(board, index):\n",
    "    coord = determine_index(index)\n",
    "    row, col = coord\n",
    "    if board[row][col] == EMPTY:\n",
    "        board[row][col] = player(board)"
   ]
  },
  {
   "cell_type": "code",
   "execution_count": 9,
   "id": "630864f9-7b21-4699-85f9-ba53ce983c4c",
   "metadata": {},
   "outputs": [],
   "source": [
    "def terminal(board):\n",
    "    moves_played = 0\n",
    "    for row in board:\n",
    "        for index in row:\n",
    "            if index != EMPTY:\n",
    "                moves_played += 1\n",
    "    if moves_played < 9:\n",
    "        return False\n",
    "    return True"
   ]
  },
  {
   "cell_type": "code",
   "execution_count": 36,
   "id": "6eaba966-a0b5-4c8d-81ea-2dba1e8c5993",
   "metadata": {},
   "outputs": [],
   "source": [
    "def winner(board):\n",
    "    current_turn = player(board)\n",
    "    expected_winner = X if current_turn == O else O\n",
    "\n",
    "    possible_winning_actions = [\n",
    "        [(0, 0), (0, 1), (0, 2)], [(1, 0), (1, 1), (1, 2)], [(2, 0), (2, 1), (2, 2)],  # Horizontal Lines\n",
    "        [(0, 0), (1, 0), (2, 0)], [(0, 1), (1, 1), (2, 1)], [(0, 2), (1, 2), (2, 2)],  # Vertical Lines\n",
    "        [(0, 0), (1, 1), (2, 2)], [(2, 0), (1, 1), (0, 2)]  # Diagonal Lines\n",
    "    ]\n",
    "\n",
    "    line_num = 0\n",
    "\n",
    "    for edge in possible_winning_actions:\n",
    "        for coord in edge:\n",
    "            row, col = coord\n",
    "            if board[int(row)][int(col)] == expected_winner:\n",
    "                line_num += 1\n",
    "            if line_num == 3:\n",
    "                return expected_winner\n",
    "        line_num = 0\n",
    "\n",
    "    return None\n",
    "\n",
    "    "
   ]
  },
  {
   "cell_type": "code",
   "execution_count": 38,
   "id": "9dea6044-45cf-40b5-97e5-1e0a3bf2403e",
   "metadata": {},
   "outputs": [
    {
     "name": "stdout",
     "output_type": "stream",
     "text": [
      "Current Board: \n",
      "X  |  X  |  X \n",
      "___  ___  ___   \n",
      "   |     |    \n",
      "___  ___  ___   \n",
      "   |  O  |  O \n",
      "Winner of the Game: X\n"
     ]
    }
   ],
   "source": [
    "board = initialise_board()\n",
    "game_state = False\n",
    "\n",
    "while game_state == False:\n",
    "    \n",
    "    index_input = ''\n",
    "    current_player = player(board)\n",
    "    while index_input.isdigit() == False or int(index_input) not in range(1, 10):\n",
    "        print_board(board)\n",
    "        print(f\"\\n\\n{current_player}'s turn\")\n",
    "        index_input = input(\"Input index for turn: [1 - 9]\")\n",
    "\n",
    "    board_input(board, int(index_input))\n",
    "    print_board(board)\n",
    "    if terminal(board) == False:\n",
    "        game_winner = winner(board)\n",
    "        if game_winner != None:\n",
    "            print(f\"\\nWinner of the Game: {game_winner}\")\n",
    "            game_state = True\n",
    "        continue\n",
    "    print(\"\\nDraw!\")\n",
    "    game_state = True\n",
    "            "
   ]
  }
 ],
 "metadata": {
  "kernelspec": {
   "display_name": "Python 3 (ipykernel)",
   "language": "python",
   "name": "python3"
  },
  "language_info": {
   "codemirror_mode": {
    "name": "ipython",
    "version": 3
   },
   "file_extension": ".py",
   "mimetype": "text/x-python",
   "name": "python",
   "nbconvert_exporter": "python",
   "pygments_lexer": "ipython3",
   "version": "3.11.7"
  }
 },
 "nbformat": 4,
 "nbformat_minor": 5
}
